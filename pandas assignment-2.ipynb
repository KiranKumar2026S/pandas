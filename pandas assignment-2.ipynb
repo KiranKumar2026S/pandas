{
 "cells": [
  {
   "cell_type": "code",
   "execution_count": 1,
   "id": "b22ab6e6",
   "metadata": {},
   "outputs": [],
   "source": [
    "import pandas as pd\n",
    "import numpy as np"
   ]
  },
  {
   "cell_type": "code",
   "execution_count": 2,
   "id": "fdbe7240",
   "metadata": {},
   "outputs": [
    {
     "data": {
      "text/html": [
       "<div>\n",
       "<style scoped>\n",
       "    .dataframe tbody tr th:only-of-type {\n",
       "        vertical-align: middle;\n",
       "    }\n",
       "\n",
       "    .dataframe tbody tr th {\n",
       "        vertical-align: top;\n",
       "    }\n",
       "\n",
       "    .dataframe thead th {\n",
       "        text-align: right;\n",
       "    }\n",
       "</style>\n",
       "<table border=\"1\" class=\"dataframe\">\n",
       "  <thead>\n",
       "    <tr style=\"text-align: right;\">\n",
       "      <th></th>\n",
       "      <th>Title</th>\n",
       "      <th>Genre</th>\n",
       "      <th>User Rating</th>\n",
       "      <th>Number of Votes</th>\n",
       "      <th>Runtime</th>\n",
       "      <th>Year</th>\n",
       "      <th>Summary</th>\n",
       "      <th>Stars</th>\n",
       "      <th>Certificate</th>\n",
       "      <th>Metascore</th>\n",
       "      <th>Gross</th>\n",
       "      <th>Episode</th>\n",
       "      <th>Episode Title</th>\n",
       "    </tr>\n",
       "  </thead>\n",
       "  <tbody>\n",
       "    <tr>\n",
       "      <th>0</th>\n",
       "      <td>One Piece</td>\n",
       "      <td>Animation, Action, Adventure</td>\n",
       "      <td>8.9</td>\n",
       "      <td>187,689</td>\n",
       "      <td>24 min</td>\n",
       "      <td>(1999– )</td>\n",
       "      <td>Follows the adventures of Monkey D. Luffy and ...</td>\n",
       "      <td>Mayumi Tanaka,Laurent Vernin,Akemi Okamura,Ton...</td>\n",
       "      <td>TV-14</td>\n",
       "      <td>NaN</td>\n",
       "      <td>187689</td>\n",
       "      <td>0</td>\n",
       "      <td>NaN</td>\n",
       "    </tr>\n",
       "    <tr>\n",
       "      <th>1</th>\n",
       "      <td>Teenage Mutant Ninja Turtles: Mutant Mayhem</td>\n",
       "      <td>Animation, Action, Adventure</td>\n",
       "      <td>7.4</td>\n",
       "      <td>28,895</td>\n",
       "      <td>99 min</td>\n",
       "      <td>(2023)</td>\n",
       "      <td>The film follows the Turtle brothers as they w...</td>\n",
       "      <td>NaN</td>\n",
       "      <td>PG</td>\n",
       "      <td>74</td>\n",
       "      <td>28895</td>\n",
       "      <td>0</td>\n",
       "      <td>NaN</td>\n",
       "    </tr>\n",
       "    <tr>\n",
       "      <th>2</th>\n",
       "      <td>The Super Mario Bros. Movie</td>\n",
       "      <td>Animation, Adventure, Comedy</td>\n",
       "      <td>7.1</td>\n",
       "      <td>189,108</td>\n",
       "      <td>92 min</td>\n",
       "      <td>(2023)</td>\n",
       "      <td>A plumber named Mario travels through an under...</td>\n",
       "      <td>NaN</td>\n",
       "      <td>PG</td>\n",
       "      <td>46</td>\n",
       "      <td>189108</td>\n",
       "      <td>0</td>\n",
       "      <td>NaN</td>\n",
       "    </tr>\n",
       "    <tr>\n",
       "      <th>3</th>\n",
       "      <td>Attack on Titan</td>\n",
       "      <td>Animation, Action, Adventure</td>\n",
       "      <td>9.1</td>\n",
       "      <td>434,457</td>\n",
       "      <td>24 min</td>\n",
       "      <td>(2013–2023)</td>\n",
       "      <td>After his hometown is destroyed and his mother...</td>\n",
       "      <td>Josh Grelle,Bryce Papenbrook,Yûki Kaji,Yui Ish...</td>\n",
       "      <td>TV-MA</td>\n",
       "      <td>NaN</td>\n",
       "      <td>434457</td>\n",
       "      <td>0</td>\n",
       "      <td>NaN</td>\n",
       "    </tr>\n",
       "    <tr>\n",
       "      <th>4</th>\n",
       "      <td>Jujutsu Kaisen</td>\n",
       "      <td>Animation, Action, Adventure</td>\n",
       "      <td>8.5</td>\n",
       "      <td>82,909</td>\n",
       "      <td>24 min</td>\n",
       "      <td>(2020– )</td>\n",
       "      <td>A boy swallows a cursed talisman - the finger ...</td>\n",
       "      <td>Junya Enoki,Yûichi Nakamura,Adam McArthur,Yuma...</td>\n",
       "      <td>TV-MA</td>\n",
       "      <td>NaN</td>\n",
       "      <td>82909</td>\n",
       "      <td>0</td>\n",
       "      <td>NaN</td>\n",
       "    </tr>\n",
       "    <tr>\n",
       "      <th>...</th>\n",
       "      <td>...</td>\n",
       "      <td>...</td>\n",
       "      <td>...</td>\n",
       "      <td>...</td>\n",
       "      <td>...</td>\n",
       "      <td>...</td>\n",
       "      <td>...</td>\n",
       "      <td>...</td>\n",
       "      <td>...</td>\n",
       "      <td>...</td>\n",
       "      <td>...</td>\n",
       "      <td>...</td>\n",
       "      <td>...</td>\n",
       "    </tr>\n",
       "    <tr>\n",
       "      <th>45712</th>\n",
       "      <td>Demon Slayer: Kimetsu no Yaiba</td>\n",
       "      <td>Animation, Action, Adventure</td>\n",
       "      <td>7.3</td>\n",
       "      <td>3,432</td>\n",
       "      <td>24 min</td>\n",
       "      <td>(2019– )</td>\n",
       "      <td>Tanjiro heads to his next location southeast; ...</td>\n",
       "      <td>NaN</td>\n",
       "      <td>TV-14</td>\n",
       "      <td>NaN</td>\n",
       "      <td>3432</td>\n",
       "      <td>1</td>\n",
       "      <td>Tsuzumi Mansion</td>\n",
       "    </tr>\n",
       "    <tr>\n",
       "      <th>45713</th>\n",
       "      <td>Demon Slayer: Kimetsu no Yaiba</td>\n",
       "      <td>Animation, Action, Adventure</td>\n",
       "      <td>7.9</td>\n",
       "      <td>3,309</td>\n",
       "      <td>24 min</td>\n",
       "      <td>(2019– )</td>\n",
       "      <td>Tanjiro gets separated from Zenitsu when he en...</td>\n",
       "      <td>NaN</td>\n",
       "      <td>TV-MA</td>\n",
       "      <td>NaN</td>\n",
       "      <td>3309</td>\n",
       "      <td>1</td>\n",
       "      <td>The Boar Bares Its Fangs, Zenitsu Sleeps</td>\n",
       "    </tr>\n",
       "    <tr>\n",
       "      <th>45714</th>\n",
       "      <td>One Piece</td>\n",
       "      <td>Animation, Action, Adventure</td>\n",
       "      <td>9.4</td>\n",
       "      <td>2,743</td>\n",
       "      <td>NaN</td>\n",
       "      <td>(1999– )</td>\n",
       "      <td>Carrot tells Sanji the news about Pedro. Germa...</td>\n",
       "      <td>Mayumi Tanaka,Tom Henry,Masako Katsuki,Mami Ko...</td>\n",
       "      <td>TV-14</td>\n",
       "      <td>NaN</td>\n",
       "      <td>2743</td>\n",
       "      <td>1</td>\n",
       "      <td>Time for Farewell! Pudding's One Last Request!</td>\n",
       "    </tr>\n",
       "    <tr>\n",
       "      <th>45715</th>\n",
       "      <td>Marmalade Boy</td>\n",
       "      <td>Animation, Comedy, Drama</td>\n",
       "      <td>NaN</td>\n",
       "      <td>NaN</td>\n",
       "      <td>24 min</td>\n",
       "      <td>(1994–2005)</td>\n",
       "      <td>NaN</td>\n",
       "      <td>Ogie Banks,Deborah Sale Butler,John DeMita,Ric...</td>\n",
       "      <td>Not Rated</td>\n",
       "      <td>NaN</td>\n",
       "      <td>NaN</td>\n",
       "      <td>1</td>\n",
       "      <td>Hijiri naru yoru (ivu nanoni hitori bocchi...)</td>\n",
       "    </tr>\n",
       "    <tr>\n",
       "      <th>45716</th>\n",
       "      <td>Cinderella Nine</td>\n",
       "      <td>Animation, Drama, Sport</td>\n",
       "      <td>6.0</td>\n",
       "      <td>6</td>\n",
       "      <td>24 min</td>\n",
       "      <td>(2019– )</td>\n",
       "      <td>On her very first day at Satogahama Municipal ...</td>\n",
       "      <td>NaN</td>\n",
       "      <td>NaN</td>\n",
       "      <td>NaN</td>\n",
       "      <td>6</td>\n",
       "      <td>1</td>\n",
       "      <td>Play Ball!</td>\n",
       "    </tr>\n",
       "  </tbody>\n",
       "</table>\n",
       "<p>45717 rows × 13 columns</p>\n",
       "</div>"
      ],
      "text/plain": [
       "                                             Title  \\\n",
       "0                                        One Piece   \n",
       "1      Teenage Mutant Ninja Turtles: Mutant Mayhem   \n",
       "2                      The Super Mario Bros. Movie   \n",
       "3                                  Attack on Titan   \n",
       "4                                   Jujutsu Kaisen   \n",
       "...                                            ...   \n",
       "45712               Demon Slayer: Kimetsu no Yaiba   \n",
       "45713               Demon Slayer: Kimetsu no Yaiba   \n",
       "45714                                    One Piece   \n",
       "45715                                Marmalade Boy   \n",
       "45716                              Cinderella Nine   \n",
       "\n",
       "                              Genre User Rating Number of Votes Runtime  \\\n",
       "0      Animation, Action, Adventure         8.9         187,689  24 min   \n",
       "1      Animation, Action, Adventure         7.4          28,895  99 min   \n",
       "2      Animation, Adventure, Comedy         7.1         189,108  92 min   \n",
       "3      Animation, Action, Adventure         9.1         434,457  24 min   \n",
       "4      Animation, Action, Adventure         8.5          82,909  24 min   \n",
       "...                             ...         ...             ...     ...   \n",
       "45712  Animation, Action, Adventure         7.3           3,432  24 min   \n",
       "45713  Animation, Action, Adventure         7.9           3,309  24 min   \n",
       "45714  Animation, Action, Adventure         9.4           2,743     NaN   \n",
       "45715      Animation, Comedy, Drama         NaN             NaN  24 min   \n",
       "45716       Animation, Drama, Sport         6.0               6  24 min   \n",
       "\n",
       "              Year                                            Summary  \\\n",
       "0         (1999– )  Follows the adventures of Monkey D. Luffy and ...   \n",
       "1           (2023)  The film follows the Turtle brothers as they w...   \n",
       "2           (2023)  A plumber named Mario travels through an under...   \n",
       "3      (2013–2023)  After his hometown is destroyed and his mother...   \n",
       "4         (2020– )  A boy swallows a cursed talisman - the finger ...   \n",
       "...            ...                                                ...   \n",
       "45712     (2019– )  Tanjiro heads to his next location southeast; ...   \n",
       "45713     (2019– )  Tanjiro gets separated from Zenitsu when he en...   \n",
       "45714     (1999– )  Carrot tells Sanji the news about Pedro. Germa...   \n",
       "45715  (1994–2005)                                                NaN   \n",
       "45716     (2019– )  On her very first day at Satogahama Municipal ...   \n",
       "\n",
       "                                                   Stars Certificate  \\\n",
       "0      Mayumi Tanaka,Laurent Vernin,Akemi Okamura,Ton...       TV-14   \n",
       "1                                                    NaN          PG   \n",
       "2                                                    NaN          PG   \n",
       "3      Josh Grelle,Bryce Papenbrook,Yûki Kaji,Yui Ish...       TV-MA   \n",
       "4      Junya Enoki,Yûichi Nakamura,Adam McArthur,Yuma...       TV-MA   \n",
       "...                                                  ...         ...   \n",
       "45712                                                NaN       TV-14   \n",
       "45713                                                NaN       TV-MA   \n",
       "45714  Mayumi Tanaka,Tom Henry,Masako Katsuki,Mami Ko...       TV-14   \n",
       "45715  Ogie Banks,Deborah Sale Butler,John DeMita,Ric...   Not Rated   \n",
       "45716                                                NaN         NaN   \n",
       "\n",
       "        Metascore   Gross Episode  \\\n",
       "0             NaN  187689       0   \n",
       "1      74           28895       0   \n",
       "2      46          189108       0   \n",
       "3             NaN  434457       0   \n",
       "4             NaN   82909       0   \n",
       "...           ...     ...     ...   \n",
       "45712         NaN    3432       1   \n",
       "45713         NaN    3309       1   \n",
       "45714         NaN    2743       1   \n",
       "45715         NaN     NaN       1   \n",
       "45716         NaN       6       1   \n",
       "\n",
       "                                        Episode Title  \n",
       "0                                                 NaN  \n",
       "1                                                 NaN  \n",
       "2                                                 NaN  \n",
       "3                                                 NaN  \n",
       "4                                                 NaN  \n",
       "...                                               ...  \n",
       "45712                                 Tsuzumi Mansion  \n",
       "45713        The Boar Bares Its Fangs, Zenitsu Sleeps  \n",
       "45714  Time for Farewell! Pudding's One Last Request!  \n",
       "45715  Hijiri naru yoru (ivu nanoni hitori bocchi...)  \n",
       "45716                                      Play Ball!  \n",
       "\n",
       "[45717 rows x 13 columns]"
      ]
     },
     "execution_count": 2,
     "metadata": {},
     "output_type": "execute_result"
    }
   ],
   "source": [
    "data=pd.read_csv(r\"C:\\Users\\hi\\Downloads\\imdb_anime.csv\")\n",
    "data"
   ]
  },
  {
   "cell_type": "code",
   "execution_count": 3,
   "id": "01735b61",
   "metadata": {},
   "outputs": [],
   "source": [
    "Cdata=data.copy()"
   ]
  },
  {
   "cell_type": "code",
   "execution_count": 4,
   "id": "33b569b7",
   "metadata": {},
   "outputs": [],
   "source": [
    "Cdata.fillna({\"Title\":\"no title\",\"Genre\":\"no genre\",\"User Rating\":0,\"Number of Votes\":0,\"Runtime\":\"10\",\"Year\":0,\"Summary\":\"no summary\",\"Stars\":\"no stars\",\"Certificate\":\"no certificate\",\"Metascore\":0,\"Gross\":10,\"Episode\":0,\"Episode Title\":\"no\"},inplace=True)"
   ]
  },
  {
   "cell_type": "code",
   "execution_count": 5,
   "id": "c3ae9530",
   "metadata": {},
   "outputs": [
    {
     "name": "stdout",
     "output_type": "stream",
     "text": [
      "<class 'pandas.core.frame.DataFrame'>\n",
      "RangeIndex: 45717 entries, 0 to 45716\n",
      "Data columns (total 13 columns):\n",
      " #   Column           Non-Null Count  Dtype \n",
      "---  ------           --------------  ----- \n",
      " 0   Title            45717 non-null  object\n",
      " 1   Genre            45717 non-null  object\n",
      " 2   User Rating      45717 non-null  object\n",
      " 3   Number of Votes  45717 non-null  object\n",
      " 4   Runtime          45717 non-null  object\n",
      " 5   Year             45717 non-null  object\n",
      " 6   Summary          45717 non-null  object\n",
      " 7   Stars            45717 non-null  object\n",
      " 8   Certificate      45717 non-null  object\n",
      " 9   Metascore        45717 non-null  object\n",
      " 10  Gross            45717 non-null  object\n",
      " 11  Episode          45717 non-null  object\n",
      " 12  Episode Title    45717 non-null  object\n",
      "dtypes: object(13)\n",
      "memory usage: 4.5+ MB\n"
     ]
    }
   ],
   "source": [
    "Cdata.info()"
   ]
  },
  {
   "cell_type": "code",
   "execution_count": 6,
   "id": "914d388d",
   "metadata": {},
   "outputs": [],
   "source": [
    "Cdata.replace({\"User Rating\":{\"User Rating\":0},\"Number of Votes\":{\"Number of Votes\":0},\"Runtime\":{\"Runtime\":\"10\"},\"Metascore\":{\"Metascore\":0},\"Gross\":{\"Gross\":10},\"Episode\":{\"Episode\":0}},inplace=True)"
   ]
  },
  {
   "cell_type": "code",
   "execution_count": 7,
   "id": "996c4e77",
   "metadata": {},
   "outputs": [],
   "source": [
    "Cdata=Cdata.astype({\"User Rating\":float,\"Metascore\":int,\"Gross\":int,\"Episode\":int,\"Year\":str})"
   ]
  },
  {
   "cell_type": "code",
   "execution_count": 8,
   "id": "e9c82e61",
   "metadata": {},
   "outputs": [],
   "source": [
    "def func(x):\n",
    "    return x.replace(\" min\",\"\")\n",
    "def f(x):\n",
    "    return int(x)\n",
    "def f1(x):\n",
    "    return x.replace(\",\",\"\")\n",
    "Cdata[\"Runtime\"]=Cdata[\"Runtime\"].map(func).map(f1).map(f)"
   ]
  },
  {
   "cell_type": "code",
   "execution_count": 9,
   "id": "5779b9e5",
   "metadata": {},
   "outputs": [],
   "source": [
    "def func(x):\n",
    "    return x.replace(\" min\",\"\")\n",
    "def f(x):\n",
    "    return int(x)\n",
    "def f1(x):\n",
    "    return x.replace(\",\",\"\")\n",
    "def f2(x):\n",
    "    return str(x)\n",
    "Cdata[\"Number of Votes\"]=Cdata[\"Number of Votes\"].map(f2).map(func).map(f1).map(f)"
   ]
  },
  {
   "cell_type": "markdown",
   "id": "35adbc5f",
   "metadata": {},
   "source": [
    "### 1. How many unique anime are there?"
   ]
  },
  {
   "cell_type": "code",
   "execution_count": 10,
   "id": "f9cd765d",
   "metadata": {},
   "outputs": [
    {
     "data": {
      "text/plain": [
       "9851"
      ]
     },
     "execution_count": 10,
     "metadata": {},
     "output_type": "execute_result"
    }
   ],
   "source": [
    "unique=Cdata[\"Title\"].unique()\n",
    "len(unique)"
   ]
  },
  {
   "cell_type": "markdown",
   "id": "435ae894",
   "metadata": {},
   "source": [
    "### 2. Which anime has the highest rating?"
   ]
  },
  {
   "cell_type": "code",
   "execution_count": 11,
   "id": "70cc312a",
   "metadata": {},
   "outputs": [],
   "source": [
    "Cdata.fillna({\"User Rating\":0.0},inplace=True)"
   ]
  },
  {
   "cell_type": "code",
   "execution_count": 12,
   "id": "dd30b53b",
   "metadata": {},
   "outputs": [],
   "source": [
    "Cdata[\"User Rating\"].replace({\"User Rating\":0.0},inplace=True)"
   ]
  },
  {
   "cell_type": "code",
   "execution_count": 13,
   "id": "d88c6f56",
   "metadata": {},
   "outputs": [],
   "source": [
    "Cdata=Cdata.astype({\"User Rating\":np.float16})"
   ]
  },
  {
   "cell_type": "code",
   "execution_count": 14,
   "id": "229c3b41",
   "metadata": {},
   "outputs": [
    {
     "data": {
      "text/html": [
       "<div>\n",
       "<style scoped>\n",
       "    .dataframe tbody tr th:only-of-type {\n",
       "        vertical-align: middle;\n",
       "    }\n",
       "\n",
       "    .dataframe tbody tr th {\n",
       "        vertical-align: top;\n",
       "    }\n",
       "\n",
       "    .dataframe thead th {\n",
       "        text-align: right;\n",
       "    }\n",
       "</style>\n",
       "<table border=\"1\" class=\"dataframe\">\n",
       "  <thead>\n",
       "    <tr style=\"text-align: right;\">\n",
       "      <th></th>\n",
       "      <th>Title</th>\n",
       "    </tr>\n",
       "  </thead>\n",
       "  <tbody>\n",
       "    <tr>\n",
       "      <th>13656</th>\n",
       "      <td>Idaten Jump</td>\n",
       "    </tr>\n",
       "    <tr>\n",
       "      <th>17874</th>\n",
       "      <td>Vinland Saga</td>\n",
       "    </tr>\n",
       "    <tr>\n",
       "      <th>22753</th>\n",
       "      <td>Attack on Titan</td>\n",
       "    </tr>\n",
       "    <tr>\n",
       "      <th>34677</th>\n",
       "      <td>Hunter x Hunter</td>\n",
       "    </tr>\n",
       "    <tr>\n",
       "      <th>39614</th>\n",
       "      <td>Legend of the Galactic Heroes</td>\n",
       "    </tr>\n",
       "    <tr>\n",
       "      <th>45689</th>\n",
       "      <td>Attack on Titan</td>\n",
       "    </tr>\n",
       "  </tbody>\n",
       "</table>\n",
       "</div>"
      ],
      "text/plain": [
       "                               Title\n",
       "13656                    Idaten Jump\n",
       "17874                   Vinland Saga\n",
       "22753                Attack on Titan\n",
       "34677                Hunter x Hunter\n",
       "39614  Legend of the Galactic Heroes\n",
       "45689                Attack on Titan"
      ]
     },
     "execution_count": 14,
     "metadata": {},
     "output_type": "execute_result"
    }
   ],
   "source": [
    "Cdata.loc[Cdata[\"User Rating\"]==Cdata[\"User Rating\"].max(),[\"Title\"]]"
   ]
  },
  {
   "cell_type": "markdown",
   "id": "5c0d2431",
   "metadata": {},
   "source": [
    "### 3. Which anime has a rating between 7.0 to 9.0?"
   ]
  },
  {
   "cell_type": "code",
   "execution_count": 15,
   "id": "79b7eac5",
   "metadata": {},
   "outputs": [
    {
     "data": {
      "text/html": [
       "<div>\n",
       "<style scoped>\n",
       "    .dataframe tbody tr th:only-of-type {\n",
       "        vertical-align: middle;\n",
       "    }\n",
       "\n",
       "    .dataframe tbody tr th {\n",
       "        vertical-align: top;\n",
       "    }\n",
       "\n",
       "    .dataframe thead th {\n",
       "        text-align: right;\n",
       "    }\n",
       "</style>\n",
       "<table border=\"1\" class=\"dataframe\">\n",
       "  <thead>\n",
       "    <tr style=\"text-align: right;\">\n",
       "      <th></th>\n",
       "      <th>Title</th>\n",
       "    </tr>\n",
       "  </thead>\n",
       "  <tbody>\n",
       "    <tr>\n",
       "      <th>0</th>\n",
       "      <td>One Piece</td>\n",
       "    </tr>\n",
       "    <tr>\n",
       "      <th>1</th>\n",
       "      <td>Teenage Mutant Ninja Turtles: Mutant Mayhem</td>\n",
       "    </tr>\n",
       "    <tr>\n",
       "      <th>2</th>\n",
       "      <td>The Super Mario Bros. Movie</td>\n",
       "    </tr>\n",
       "    <tr>\n",
       "      <th>4</th>\n",
       "      <td>Jujutsu Kaisen</td>\n",
       "    </tr>\n",
       "    <tr>\n",
       "      <th>6</th>\n",
       "      <td>Demon Slayer: Kimetsu no Yaiba</td>\n",
       "    </tr>\n",
       "    <tr>\n",
       "      <th>...</th>\n",
       "      <td>...</td>\n",
       "    </tr>\n",
       "    <tr>\n",
       "      <th>45709</th>\n",
       "      <td>Demon Slayer: Kimetsu no Yaiba</td>\n",
       "    </tr>\n",
       "    <tr>\n",
       "      <th>45710</th>\n",
       "      <td>Demon Slayer: Kimetsu no Yaiba</td>\n",
       "    </tr>\n",
       "    <tr>\n",
       "      <th>45711</th>\n",
       "      <td>Demon Slayer: Kimetsu no Yaiba</td>\n",
       "    </tr>\n",
       "    <tr>\n",
       "      <th>45712</th>\n",
       "      <td>Demon Slayer: Kimetsu no Yaiba</td>\n",
       "    </tr>\n",
       "    <tr>\n",
       "      <th>45713</th>\n",
       "      <td>Demon Slayer: Kimetsu no Yaiba</td>\n",
       "    </tr>\n",
       "  </tbody>\n",
       "</table>\n",
       "<p>15655 rows × 1 columns</p>\n",
       "</div>"
      ],
      "text/plain": [
       "                                             Title\n",
       "0                                        One Piece\n",
       "1      Teenage Mutant Ninja Turtles: Mutant Mayhem\n",
       "2                      The Super Mario Bros. Movie\n",
       "4                                   Jujutsu Kaisen\n",
       "6                   Demon Slayer: Kimetsu no Yaiba\n",
       "...                                            ...\n",
       "45709               Demon Slayer: Kimetsu no Yaiba\n",
       "45710               Demon Slayer: Kimetsu no Yaiba\n",
       "45711               Demon Slayer: Kimetsu no Yaiba\n",
       "45712               Demon Slayer: Kimetsu no Yaiba\n",
       "45713               Demon Slayer: Kimetsu no Yaiba\n",
       "\n",
       "[15655 rows x 1 columns]"
      ]
     },
     "execution_count": 15,
     "metadata": {},
     "output_type": "execute_result"
    }
   ],
   "source": [
    "Cdata.loc[(Cdata[\"User Rating\"]>=7.0)&(Cdata[\"User Rating\"]<=9.0),[\"Title\"]]"
   ]
  },
  {
   "cell_type": "markdown",
   "id": "384f55d2",
   "metadata": {},
   "source": [
    "### 4. Which anime has the highest and lowest runtime?"
   ]
  },
  {
   "cell_type": "code",
   "execution_count": 16,
   "id": "97d32b3d",
   "metadata": {},
   "outputs": [
    {
     "name": "stdout",
     "output_type": "stream",
     "text": [
      "these has highest runtime\n",
      "                           Title\n",
      "2798  The Wonderful Wizard of Oz\n",
      "\n",
      "****************************************\n",
      "these has lowest runtime\n",
      "                            Title\n",
      "2809                   Ani*Kuri15\n",
      "3588                Henkei Shoujo\n",
      "3708   Gloomy the Naughty Grizzly\n",
      "4548                      Usavich\n",
      "4792                 Tokino Kousa\n",
      "...                           ...\n",
      "23772  Gloomy the Naughty Grizzly\n",
      "23773  Gloomy the Naughty Grizzly\n",
      "23774  Gloomy the Naughty Grizzly\n",
      "23775  Gloomy the Naughty Grizzly\n",
      "33433                  Ani*Kuri15\n",
      "\n",
      "[149 rows x 1 columns]\n"
     ]
    }
   ],
   "source": [
    "a=Cdata[\"Runtime\"]\n",
    "print(\"these has highest runtime\")\n",
    "b=a.max()\n",
    "high=Cdata.loc[a==b,[\"Title\"]]\n",
    "print(high)\n",
    "print()\n",
    "print(\"*\"*40)\n",
    "print(\"these has lowest runtime\")\n",
    "c=a.min()\n",
    "low=Cdata.loc[a==c,[\"Title\"]]\n",
    "print(low)"
   ]
  },
  {
   "cell_type": "markdown",
   "id": "ad2ca96d",
   "metadata": {},
   "source": [
    "### 5. What is the runtime difference between one Piece and the super mario bros movie?"
   ]
  },
  {
   "cell_type": "code",
   "execution_count": 17,
   "id": "83bef1d4",
   "metadata": {},
   "outputs": [
    {
     "name": "stdout",
     "output_type": "stream",
     "text": [
      "Runtime    11249\n",
      "dtype: int64 is the run time difference between ONE PIECE and SUPER MARIO BROS MOVIE\n"
     ]
    }
   ],
   "source": [
    "op=Cdata.loc[Cdata[\"Title\"]==\"One Piece\",[\"Runtime\"]].sum()\n",
    "smbm=Cdata.loc[Cdata[\"Title\"]==\"The Super Mario Bros. Movie\",[\"Runtime\"]].sum()\n",
    "print(op-smbm,\"is the run time difference between ONE PIECE and SUPER MARIO BROS MOVIE\")"
   ]
  },
  {
   "cell_type": "code",
   "execution_count": null,
   "id": "a65e8bd4",
   "metadata": {},
   "outputs": [],
   "source": []
  },
  {
   "cell_type": "code",
   "execution_count": null,
   "id": "f0886987",
   "metadata": {},
   "outputs": [],
   "source": []
  },
  {
   "cell_type": "markdown",
   "id": "41619e59",
   "metadata": {},
   "source": [
    "### 7. List all the anime that were released in the year 2023."
   ]
  },
  {
   "cell_type": "code",
   "execution_count": 18,
   "id": "844c9a57",
   "metadata": {},
   "outputs": [
    {
     "data": {
      "text/html": [
       "<div>\n",
       "<style scoped>\n",
       "    .dataframe tbody tr th:only-of-type {\n",
       "        vertical-align: middle;\n",
       "    }\n",
       "\n",
       "    .dataframe tbody tr th {\n",
       "        vertical-align: top;\n",
       "    }\n",
       "\n",
       "    .dataframe thead th {\n",
       "        text-align: right;\n",
       "    }\n",
       "</style>\n",
       "<table border=\"1\" class=\"dataframe\">\n",
       "  <thead>\n",
       "    <tr style=\"text-align: right;\">\n",
       "      <th></th>\n",
       "      <th>Title</th>\n",
       "    </tr>\n",
       "  </thead>\n",
       "  <tbody>\n",
       "    <tr>\n",
       "      <th>1</th>\n",
       "      <td>Teenage Mutant Ninja Turtles: Mutant Mayhem</td>\n",
       "    </tr>\n",
       "    <tr>\n",
       "      <th>2</th>\n",
       "      <td>The Super Mario Bros. Movie</td>\n",
       "    </tr>\n",
       "    <tr>\n",
       "      <th>13</th>\n",
       "      <td>The Boy and the Heron</td>\n",
       "    </tr>\n",
       "    <tr>\n",
       "      <th>21</th>\n",
       "      <td>Ruby Gillman, Teenage Kraken</td>\n",
       "    </tr>\n",
       "    <tr>\n",
       "      <th>42</th>\n",
       "      <td>Resident Evil: Death Island</td>\n",
       "    </tr>\n",
       "    <tr>\n",
       "      <th>...</th>\n",
       "      <td>...</td>\n",
       "    </tr>\n",
       "    <tr>\n",
       "      <th>7965</th>\n",
       "      <td>Yomawari Neko</td>\n",
       "    </tr>\n",
       "    <tr>\n",
       "      <th>8558</th>\n",
       "      <td>Girls und Panzer das Finale: Part IV</td>\n",
       "    </tr>\n",
       "    <tr>\n",
       "      <th>8605</th>\n",
       "      <td>Jinzô Mahô Shôjo Kaini</td>\n",
       "    </tr>\n",
       "    <tr>\n",
       "      <th>8840</th>\n",
       "      <td>The Dog &amp; The Boy</td>\n",
       "    </tr>\n",
       "    <tr>\n",
       "      <th>10314</th>\n",
       "      <td>The Floating World</td>\n",
       "    </tr>\n",
       "  </tbody>\n",
       "</table>\n",
       "<p>105 rows × 1 columns</p>\n",
       "</div>"
      ],
      "text/plain": [
       "                                             Title\n",
       "1      Teenage Mutant Ninja Turtles: Mutant Mayhem\n",
       "2                      The Super Mario Bros. Movie\n",
       "13                           The Boy and the Heron\n",
       "21                    Ruby Gillman, Teenage Kraken\n",
       "42                     Resident Evil: Death Island\n",
       "...                                            ...\n",
       "7965                                 Yomawari Neko\n",
       "8558          Girls und Panzer das Finale: Part IV\n",
       "8605                        Jinzô Mahô Shôjo Kaini\n",
       "8840                             The Dog & The Boy\n",
       "10314                           The Floating World\n",
       "\n",
       "[105 rows x 1 columns]"
      ]
     },
     "execution_count": 18,
     "metadata": {},
     "output_type": "execute_result"
    }
   ],
   "source": [
    "def sub(s2):\n",
    "    s1=\"2023\"\n",
    "    if(len(s2)<=6):\n",
    "        if s1 in s2:\n",
    "            return True\n",
    "        return False\n",
    "    return False\n",
    "a=Cdata[\"Year\"].map(sub)\n",
    "b=a.values\n",
    "c=Cdata[b]\n",
    "c[[\"Title\"]]"
   ]
  },
  {
   "cell_type": "markdown",
   "id": "b561bc0f",
   "metadata": {},
   "source": [
    "### 8. What is the average user rating of the anime which belong to the action genre?"
   ]
  },
  {
   "cell_type": "code",
   "execution_count": null,
   "id": "d1a03c5c",
   "metadata": {},
   "outputs": [],
   "source": []
  },
  {
   "cell_type": "markdown",
   "id": "5c3eea3d",
   "metadata": {},
   "source": [
    "### 9. which anime has the least gross price?"
   ]
  },
  {
   "cell_type": "code",
   "execution_count": 38,
   "id": "3a1a6088",
   "metadata": {},
   "outputs": [
    {
     "name": "stdout",
     "output_type": "stream",
     "text": [
      "THESE ANIMES HAS THE LEAST GROSS\n"
     ]
    },
    {
     "data": {
      "text/html": [
       "<div>\n",
       "<style scoped>\n",
       "    .dataframe tbody tr th:only-of-type {\n",
       "        vertical-align: middle;\n",
       "    }\n",
       "\n",
       "    .dataframe tbody tr th {\n",
       "        vertical-align: top;\n",
       "    }\n",
       "\n",
       "    .dataframe thead th {\n",
       "        text-align: right;\n",
       "    }\n",
       "</style>\n",
       "<table border=\"1\" class=\"dataframe\">\n",
       "  <thead>\n",
       "    <tr style=\"text-align: right;\">\n",
       "      <th></th>\n",
       "      <th>Title</th>\n",
       "      <th>Gross</th>\n",
       "    </tr>\n",
       "  </thead>\n",
       "  <tbody>\n",
       "    <tr>\n",
       "      <th>3233</th>\n",
       "      <td>Show Time!</td>\n",
       "      <td>5</td>\n",
       "    </tr>\n",
       "    <tr>\n",
       "      <th>5620</th>\n",
       "      <td>The Peasant Noble</td>\n",
       "      <td>5</td>\n",
       "    </tr>\n",
       "    <tr>\n",
       "      <th>5714</th>\n",
       "      <td>Meitantei Conan Magic File 4: Osaka okonomiyak...</td>\n",
       "      <td>5</td>\n",
       "    </tr>\n",
       "    <tr>\n",
       "      <th>6142</th>\n",
       "      <td>Fist of the North Star Legennd of Heroes - Spe...</td>\n",
       "      <td>5</td>\n",
       "    </tr>\n",
       "    <tr>\n",
       "      <th>6236</th>\n",
       "      <td>Shakotan Boogie</td>\n",
       "      <td>5</td>\n",
       "    </tr>\n",
       "    <tr>\n",
       "      <th>...</th>\n",
       "      <td>...</td>\n",
       "      <td>...</td>\n",
       "    </tr>\n",
       "    <tr>\n",
       "      <th>45600</th>\n",
       "      <td>Girl Beats Boys</td>\n",
       "      <td>5</td>\n",
       "    </tr>\n",
       "    <tr>\n",
       "      <th>45601</th>\n",
       "      <td>Girl Beats Boys</td>\n",
       "      <td>5</td>\n",
       "    </tr>\n",
       "    <tr>\n",
       "      <th>45602</th>\n",
       "      <td>Girl Beats Boys</td>\n",
       "      <td>5</td>\n",
       "    </tr>\n",
       "    <tr>\n",
       "      <th>45606</th>\n",
       "      <td>Girl Beats Boys</td>\n",
       "      <td>5</td>\n",
       "    </tr>\n",
       "    <tr>\n",
       "      <th>45608</th>\n",
       "      <td>Girl Beats Boys</td>\n",
       "      <td>5</td>\n",
       "    </tr>\n",
       "  </tbody>\n",
       "</table>\n",
       "<p>168 rows × 2 columns</p>\n",
       "</div>"
      ],
      "text/plain": [
       "                                                   Title  Gross\n",
       "3233                                          Show Time!      5\n",
       "5620                                   The Peasant Noble      5\n",
       "5714   Meitantei Conan Magic File 4: Osaka okonomiyak...      5\n",
       "6142   Fist of the North Star Legennd of Heroes - Spe...      5\n",
       "6236                                     Shakotan Boogie      5\n",
       "...                                                  ...    ...\n",
       "45600                                    Girl Beats Boys      5\n",
       "45601                                    Girl Beats Boys      5\n",
       "45602                                    Girl Beats Boys      5\n",
       "45606                                    Girl Beats Boys      5\n",
       "45608                                    Girl Beats Boys      5\n",
       "\n",
       "[168 rows x 2 columns]"
      ]
     },
     "execution_count": 38,
     "metadata": {},
     "output_type": "execute_result"
    }
   ],
   "source": [
    "least=Cdata[\"Gross\"].min()\n",
    "a=Cdata.loc[Cdata[\"Gross\"]==least,[\"Title\",\"Gross\"]]\n",
    "print(\"THESE ANIMES HAS THE LEAST GROSS\")\n",
    "a"
   ]
  },
  {
   "cell_type": "markdown",
   "id": "92a77ca8",
   "metadata": {},
   "source": [
    "### 10. which anime has the highest gross price?"
   ]
  },
  {
   "cell_type": "code",
   "execution_count": 39,
   "id": "185c7b36",
   "metadata": {},
   "outputs": [
    {
     "name": "stdout",
     "output_type": "stream",
     "text": [
      "THESE ANIMES HAS THE HIGHEST GROSS\n"
     ]
    },
    {
     "data": {
      "text/html": [
       "<div>\n",
       "<style scoped>\n",
       "    .dataframe tbody tr th:only-of-type {\n",
       "        vertical-align: middle;\n",
       "    }\n",
       "\n",
       "    .dataframe tbody tr th {\n",
       "        vertical-align: top;\n",
       "    }\n",
       "\n",
       "    .dataframe thead th {\n",
       "        text-align: right;\n",
       "    }\n",
       "</style>\n",
       "<table border=\"1\" class=\"dataframe\">\n",
       "  <thead>\n",
       "    <tr style=\"text-align: right;\">\n",
       "      <th></th>\n",
       "      <th>Title</th>\n",
       "      <th>Gross</th>\n",
       "    </tr>\n",
       "  </thead>\n",
       "  <tbody>\n",
       "    <tr>\n",
       "      <th>47</th>\n",
       "      <td>WALL·E</td>\n",
       "      <td>1162284</td>\n",
       "    </tr>\n",
       "    <tr>\n",
       "      <th>888</th>\n",
       "      <td>WALL·E</td>\n",
       "      <td>1162284</td>\n",
       "    </tr>\n",
       "  </tbody>\n",
       "</table>\n",
       "</div>"
      ],
      "text/plain": [
       "      Title    Gross\n",
       "47   WALL·E  1162284\n",
       "888  WALL·E  1162284"
      ]
     },
     "execution_count": 39,
     "metadata": {},
     "output_type": "execute_result"
    }
   ],
   "source": [
    "highest=Cdata[\"Gross\"].max()\n",
    "a=Cdata.loc[Cdata[\"Gross\"]==highest,[\"Title\",\"Gross\"]]\n",
    "print(\"THESE ANIMES HAS THE HIGHEST GROSS\")\n",
    "a"
   ]
  },
  {
   "cell_type": "markdown",
   "id": "58a0a916",
   "metadata": {},
   "source": [
    "### 11. how many animes belongs to PG certificate?"
   ]
  },
  {
   "cell_type": "code",
   "execution_count": 40,
   "id": "5acf839c",
   "metadata": {},
   "outputs": [
    {
     "name": "stdout",
     "output_type": "stream",
     "text": [
      "425 belongs to PG certificate\n"
     ]
    }
   ],
   "source": [
    "cer=Cdata.loc[Cdata[\"Certificate\"]==\"PG\",[\"Title\"]].shape\n",
    "print(cer[0],\"belongs to PG certificate\")"
   ]
  },
  {
   "cell_type": "markdown",
   "id": "83ba70de",
   "metadata": {},
   "source": [
    "### 12. what is the average no.of votes in your dataset."
   ]
  },
  {
   "cell_type": "code",
   "execution_count": 41,
   "id": "580c07de",
   "metadata": {},
   "outputs": [
    {
     "data": {
      "text/plain": [
       "1632.1920510969662"
      ]
     },
     "execution_count": 41,
     "metadata": {},
     "output_type": "execute_result"
    }
   ],
   "source": [
    "Cdata[\"Number of Votes\"].mean()"
   ]
  },
  {
   "cell_type": "code",
   "execution_count": null,
   "id": "e546a3df",
   "metadata": {},
   "outputs": [],
   "source": []
  }
 ],
 "metadata": {
  "kernelspec": {
   "display_name": "Python 3 (ipykernel)",
   "language": "python",
   "name": "python3"
  },
  "language_info": {
   "codemirror_mode": {
    "name": "ipython",
    "version": 3
   },
   "file_extension": ".py",
   "mimetype": "text/x-python",
   "name": "python",
   "nbconvert_exporter": "python",
   "pygments_lexer": "ipython3",
   "version": "3.11.3"
  }
 },
 "nbformat": 4,
 "nbformat_minor": 5
}
