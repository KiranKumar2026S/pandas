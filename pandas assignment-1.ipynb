{
 "cells": [
  {
   "cell_type": "code",
   "execution_count": 3,
   "id": "bb247d61",
   "metadata": {},
   "outputs": [],
   "source": [
    "import pandas as pd\n",
    "import numpy as np"
   ]
  },
  {
   "cell_type": "code",
   "execution_count": 4,
   "id": "85457f50",
   "metadata": {},
   "outputs": [
    {
     "data": {
      "text/html": [
       "<div>\n",
       "<style scoped>\n",
       "    .dataframe tbody tr th:only-of-type {\n",
       "        vertical-align: middle;\n",
       "    }\n",
       "\n",
       "    .dataframe tbody tr th {\n",
       "        vertical-align: top;\n",
       "    }\n",
       "\n",
       "    .dataframe thead th {\n",
       "        text-align: right;\n",
       "    }\n",
       "</style>\n",
       "<table border=\"1\" class=\"dataframe\">\n",
       "  <thead>\n",
       "    <tr style=\"text-align: right;\">\n",
       "      <th></th>\n",
       "      <th>phone_name</th>\n",
       "      <th>brand</th>\n",
       "      <th>os</th>\n",
       "      <th>inches</th>\n",
       "      <th>resolution</th>\n",
       "      <th>battery</th>\n",
       "      <th>battery_type</th>\n",
       "      <th>ram(GB)</th>\n",
       "      <th>announcement_date</th>\n",
       "      <th>weight(g)</th>\n",
       "      <th>...</th>\n",
       "      <th>video_1080p</th>\n",
       "      <th>video_4K</th>\n",
       "      <th>video_8K</th>\n",
       "      <th>video_30fps</th>\n",
       "      <th>video_60fps</th>\n",
       "      <th>video_120fps</th>\n",
       "      <th>video_240fps</th>\n",
       "      <th>video_480fps</th>\n",
       "      <th>video_960fps</th>\n",
       "      <th>price(USD)</th>\n",
       "    </tr>\n",
       "  </thead>\n",
       "  <tbody>\n",
       "    <tr>\n",
       "      <th>0</th>\n",
       "      <td>Y6II Compact</td>\n",
       "      <td>Huawei</td>\n",
       "      <td>Android 5.1</td>\n",
       "      <td>5.00</td>\n",
       "      <td>720x1280</td>\n",
       "      <td>2200</td>\n",
       "      <td>Li-Po</td>\n",
       "      <td>2</td>\n",
       "      <td>2016-09-01</td>\n",
       "      <td>140.0</td>\n",
       "      <td>...</td>\n",
       "      <td>False</td>\n",
       "      <td>False</td>\n",
       "      <td>False</td>\n",
       "      <td>True</td>\n",
       "      <td>False</td>\n",
       "      <td>False</td>\n",
       "      <td>False</td>\n",
       "      <td>False</td>\n",
       "      <td>False</td>\n",
       "      <td>120.000</td>\n",
       "    </tr>\n",
       "    <tr>\n",
       "      <th>1</th>\n",
       "      <td>K20 plus</td>\n",
       "      <td>LG</td>\n",
       "      <td>Android 7.0</td>\n",
       "      <td>5.30</td>\n",
       "      <td>720x1280</td>\n",
       "      <td>2700</td>\n",
       "      <td>Li-Ion</td>\n",
       "      <td>2</td>\n",
       "      <td>2016-12-01</td>\n",
       "      <td>140.0</td>\n",
       "      <td>...</td>\n",
       "      <td>True</td>\n",
       "      <td>False</td>\n",
       "      <td>False</td>\n",
       "      <td>True</td>\n",
       "      <td>False</td>\n",
       "      <td>False</td>\n",
       "      <td>False</td>\n",
       "      <td>False</td>\n",
       "      <td>False</td>\n",
       "      <td>100.000</td>\n",
       "    </tr>\n",
       "    <tr>\n",
       "      <th>2</th>\n",
       "      <td>P8 Lite (2017)</td>\n",
       "      <td>Huawei</td>\n",
       "      <td>Android 7.0</td>\n",
       "      <td>5.20</td>\n",
       "      <td>1080x1920</td>\n",
       "      <td>3000</td>\n",
       "      <td>Li-Ion</td>\n",
       "      <td>4</td>\n",
       "      <td>2017-01-01</td>\n",
       "      <td>147.0</td>\n",
       "      <td>...</td>\n",
       "      <td>True</td>\n",
       "      <td>False</td>\n",
       "      <td>False</td>\n",
       "      <td>True</td>\n",
       "      <td>False</td>\n",
       "      <td>False</td>\n",
       "      <td>False</td>\n",
       "      <td>False</td>\n",
       "      <td>False</td>\n",
       "      <td>420.000</td>\n",
       "    </tr>\n",
       "    <tr>\n",
       "      <th>3</th>\n",
       "      <td>Redmi Note 4</td>\n",
       "      <td>Xiaomi</td>\n",
       "      <td>Android 6.0</td>\n",
       "      <td>5.50</td>\n",
       "      <td>1080x1920</td>\n",
       "      <td>4100</td>\n",
       "      <td>Li-Po</td>\n",
       "      <td>4</td>\n",
       "      <td>2017-01-01</td>\n",
       "      <td>165.0</td>\n",
       "      <td>...</td>\n",
       "      <td>True</td>\n",
       "      <td>False</td>\n",
       "      <td>False</td>\n",
       "      <td>True</td>\n",
       "      <td>False</td>\n",
       "      <td>True</td>\n",
       "      <td>False</td>\n",
       "      <td>False</td>\n",
       "      <td>False</td>\n",
       "      <td>150.000</td>\n",
       "    </tr>\n",
       "    <tr>\n",
       "      <th>4</th>\n",
       "      <td>P10</td>\n",
       "      <td>Huawei</td>\n",
       "      <td>Android 7.0</td>\n",
       "      <td>5.10</td>\n",
       "      <td>1080x1920</td>\n",
       "      <td>3200</td>\n",
       "      <td>Li-Ion</td>\n",
       "      <td>4</td>\n",
       "      <td>2017-02-01</td>\n",
       "      <td>145.0</td>\n",
       "      <td>...</td>\n",
       "      <td>True</td>\n",
       "      <td>True</td>\n",
       "      <td>False</td>\n",
       "      <td>True</td>\n",
       "      <td>True</td>\n",
       "      <td>False</td>\n",
       "      <td>False</td>\n",
       "      <td>False</td>\n",
       "      <td>False</td>\n",
       "      <td>420.000</td>\n",
       "    </tr>\n",
       "    <tr>\n",
       "      <th>...</th>\n",
       "      <td>...</td>\n",
       "      <td>...</td>\n",
       "      <td>...</td>\n",
       "      <td>...</td>\n",
       "      <td>...</td>\n",
       "      <td>...</td>\n",
       "      <td>...</td>\n",
       "      <td>...</td>\n",
       "      <td>...</td>\n",
       "      <td>...</td>\n",
       "      <td>...</td>\n",
       "      <td>...</td>\n",
       "      <td>...</td>\n",
       "      <td>...</td>\n",
       "      <td>...</td>\n",
       "      <td>...</td>\n",
       "      <td>...</td>\n",
       "      <td>...</td>\n",
       "      <td>...</td>\n",
       "      <td>...</td>\n",
       "      <td>...</td>\n",
       "    </tr>\n",
       "    <tr>\n",
       "      <th>1507</th>\n",
       "      <td>vivo Y77t</td>\n",
       "      <td>Vivo</td>\n",
       "      <td>Android 13</td>\n",
       "      <td>6.64</td>\n",
       "      <td>1080x2388</td>\n",
       "      <td>5000</td>\n",
       "      <td>Li-Po</td>\n",
       "      <td>8</td>\n",
       "      <td>2023-08-18</td>\n",
       "      <td>190.0</td>\n",
       "      <td>...</td>\n",
       "      <td>True</td>\n",
       "      <td>False</td>\n",
       "      <td>False</td>\n",
       "      <td>True</td>\n",
       "      <td>False</td>\n",
       "      <td>False</td>\n",
       "      <td>False</td>\n",
       "      <td>False</td>\n",
       "      <td>False</td>\n",
       "      <td>170.000</td>\n",
       "    </tr>\n",
       "    <tr>\n",
       "      <th>1508</th>\n",
       "      <td>11x</td>\n",
       "      <td>Realme</td>\n",
       "      <td>Android 13</td>\n",
       "      <td>6.72</td>\n",
       "      <td>1080x2400</td>\n",
       "      <td>5000</td>\n",
       "      <td>Li-Po</td>\n",
       "      <td>8</td>\n",
       "      <td>2023-08-23</td>\n",
       "      <td>190.0</td>\n",
       "      <td>...</td>\n",
       "      <td>True</td>\n",
       "      <td>False</td>\n",
       "      <td>False</td>\n",
       "      <td>True</td>\n",
       "      <td>False</td>\n",
       "      <td>False</td>\n",
       "      <td>False</td>\n",
       "      <td>False</td>\n",
       "      <td>False</td>\n",
       "      <td>182.880</td>\n",
       "    </tr>\n",
       "    <tr>\n",
       "      <th>1509</th>\n",
       "      <td>GT5</td>\n",
       "      <td>Realme</td>\n",
       "      <td>Android 13</td>\n",
       "      <td>6.74</td>\n",
       "      <td>1240x2772</td>\n",
       "      <td>5240</td>\n",
       "      <td>Li-Po</td>\n",
       "      <td>16</td>\n",
       "      <td>2023-08-28</td>\n",
       "      <td>205.0</td>\n",
       "      <td>...</td>\n",
       "      <td>True</td>\n",
       "      <td>True</td>\n",
       "      <td>False</td>\n",
       "      <td>False</td>\n",
       "      <td>True</td>\n",
       "      <td>False</td>\n",
       "      <td>False</td>\n",
       "      <td>False</td>\n",
       "      <td>False</td>\n",
       "      <td>380.000</td>\n",
       "    </tr>\n",
       "    <tr>\n",
       "      <th>1510</th>\n",
       "      <td>GT5 240W</td>\n",
       "      <td>Realme</td>\n",
       "      <td>Android 13</td>\n",
       "      <td>6.74</td>\n",
       "      <td>1240x2772</td>\n",
       "      <td>4600</td>\n",
       "      <td>Li-Po</td>\n",
       "      <td>24</td>\n",
       "      <td>2023-08-28</td>\n",
       "      <td>205.0</td>\n",
       "      <td>...</td>\n",
       "      <td>True</td>\n",
       "      <td>True</td>\n",
       "      <td>False</td>\n",
       "      <td>False</td>\n",
       "      <td>True</td>\n",
       "      <td>False</td>\n",
       "      <td>False</td>\n",
       "      <td>False</td>\n",
       "      <td>False</td>\n",
       "      <td>470.000</td>\n",
       "    </tr>\n",
       "    <tr>\n",
       "      <th>1511</th>\n",
       "      <td>vivo iQOO Z7 Pro</td>\n",
       "      <td>Vivo</td>\n",
       "      <td>Android 13</td>\n",
       "      <td>6.78</td>\n",
       "      <td>1080x2400</td>\n",
       "      <td>4600</td>\n",
       "      <td>Li-Po</td>\n",
       "      <td>8</td>\n",
       "      <td>2023-08-31</td>\n",
       "      <td>175.0</td>\n",
       "      <td>...</td>\n",
       "      <td>True</td>\n",
       "      <td>True</td>\n",
       "      <td>False</td>\n",
       "      <td>True</td>\n",
       "      <td>False</td>\n",
       "      <td>False</td>\n",
       "      <td>False</td>\n",
       "      <td>False</td>\n",
       "      <td>False</td>\n",
       "      <td>287.988</td>\n",
       "    </tr>\n",
       "  </tbody>\n",
       "</table>\n",
       "<p>1512 rows × 22 columns</p>\n",
       "</div>"
      ],
      "text/plain": [
       "            phone_name   brand           os  inches resolution  battery  \\\n",
       "0         Y6II Compact  Huawei  Android 5.1    5.00   720x1280     2200   \n",
       "1             K20 plus      LG  Android 7.0    5.30   720x1280     2700   \n",
       "2       P8 Lite (2017)  Huawei  Android 7.0    5.20  1080x1920     3000   \n",
       "3         Redmi Note 4  Xiaomi  Android 6.0    5.50  1080x1920     4100   \n",
       "4                  P10  Huawei  Android 7.0    5.10  1080x1920     3200   \n",
       "...                ...     ...          ...     ...        ...      ...   \n",
       "1507         vivo Y77t    Vivo   Android 13    6.64  1080x2388     5000   \n",
       "1508               11x  Realme   Android 13    6.72  1080x2400     5000   \n",
       "1509               GT5  Realme   Android 13    6.74  1240x2772     5240   \n",
       "1510          GT5 240W  Realme   Android 13    6.74  1240x2772     4600   \n",
       "1511  vivo iQOO Z7 Pro    Vivo   Android 13    6.78  1080x2400     4600   \n",
       "\n",
       "     battery_type  ram(GB) announcement_date  weight(g)  ...  video_1080p  \\\n",
       "0           Li-Po        2        2016-09-01      140.0  ...        False   \n",
       "1          Li-Ion        2        2016-12-01      140.0  ...         True   \n",
       "2          Li-Ion        4        2017-01-01      147.0  ...         True   \n",
       "3           Li-Po        4        2017-01-01      165.0  ...         True   \n",
       "4          Li-Ion        4        2017-02-01      145.0  ...         True   \n",
       "...           ...      ...               ...        ...  ...          ...   \n",
       "1507        Li-Po        8        2023-08-18      190.0  ...         True   \n",
       "1508        Li-Po        8        2023-08-23      190.0  ...         True   \n",
       "1509        Li-Po       16        2023-08-28      205.0  ...         True   \n",
       "1510        Li-Po       24        2023-08-28      205.0  ...         True   \n",
       "1511        Li-Po        8        2023-08-31      175.0  ...         True   \n",
       "\n",
       "      video_4K  video_8K  video_30fps  video_60fps  video_120fps  \\\n",
       "0        False     False         True        False         False   \n",
       "1        False     False         True        False         False   \n",
       "2        False     False         True        False         False   \n",
       "3        False     False         True        False          True   \n",
       "4         True     False         True         True         False   \n",
       "...        ...       ...          ...          ...           ...   \n",
       "1507     False     False         True        False         False   \n",
       "1508     False     False         True        False         False   \n",
       "1509      True     False        False         True         False   \n",
       "1510      True     False        False         True         False   \n",
       "1511      True     False         True        False         False   \n",
       "\n",
       "      video_240fps  video_480fps  video_960fps  price(USD)  \n",
       "0            False         False         False     120.000  \n",
       "1            False         False         False     100.000  \n",
       "2            False         False         False     420.000  \n",
       "3            False         False         False     150.000  \n",
       "4            False         False         False     420.000  \n",
       "...            ...           ...           ...         ...  \n",
       "1507         False         False         False     170.000  \n",
       "1508         False         False         False     182.880  \n",
       "1509         False         False         False     380.000  \n",
       "1510         False         False         False     470.000  \n",
       "1511         False         False         False     287.988  \n",
       "\n",
       "[1512 rows x 22 columns]"
      ]
     },
     "execution_count": 4,
     "metadata": {},
     "output_type": "execute_result"
    }
   ],
   "source": [
    "data=pd.read_csv(r\"C:\\Users\\hi\\Downloads\\cleaned_all_phones.csv\")\n",
    "data"
   ]
  },
  {
   "cell_type": "code",
   "execution_count": 25,
   "id": "269e5077",
   "metadata": {},
   "outputs": [
    {
     "name": "stdout",
     "output_type": "stream",
     "text": [
      "<class 'pandas.core.frame.DataFrame'>\n",
      "RangeIndex: 1512 entries, 0 to 1511\n",
      "Data columns (total 22 columns):\n",
      " #   Column             Non-Null Count  Dtype         \n",
      "---  ------             --------------  -----         \n",
      " 0   phone_name         1512 non-null   object        \n",
      " 1   brand              1512 non-null   object        \n",
      " 2   os                 1512 non-null   object        \n",
      " 3   inches             1512 non-null   float64       \n",
      " 4   resolution         1512 non-null   object        \n",
      " 5   battery            1512 non-null   int64         \n",
      " 6   battery_type       1512 non-null   object        \n",
      " 7   ram(GB)            1512 non-null   int64         \n",
      " 8   announcement_date  1512 non-null   datetime64[ns]\n",
      " 9   weight(g)          1512 non-null   float64       \n",
      " 10  storage(GB)        1512 non-null   int64         \n",
      " 11  video_720p         1512 non-null   bool          \n",
      " 12  video_1080p        1512 non-null   bool          \n",
      " 13  video_4K           1512 non-null   bool          \n",
      " 14  video_8K           1512 non-null   bool          \n",
      " 15  video_30fps        1512 non-null   bool          \n",
      " 16  video_60fps        1512 non-null   bool          \n",
      " 17  video_120fps       1512 non-null   bool          \n",
      " 18  video_240fps       1512 non-null   bool          \n",
      " 19  video_480fps       1512 non-null   bool          \n",
      " 20  video_960fps       1512 non-null   bool          \n",
      " 21  price(USD)         1512 non-null   float64       \n",
      "dtypes: bool(10), datetime64[ns](1), float64(3), int64(3), object(5)\n",
      "memory usage: 156.6+ KB\n"
     ]
    }
   ],
   "source": [
    "data.info()"
   ]
  },
  {
   "cell_type": "code",
   "execution_count": 13,
   "id": "b9f821f1",
   "metadata": {},
   "outputs": [
    {
     "data": {
      "text/plain": [
       "13"
      ]
     },
     "execution_count": 13,
     "metadata": {},
     "output_type": "execute_result"
    }
   ],
   "source": [
    "#1\n",
    "len(data[\"brand\"].unique())"
   ]
  },
  {
   "cell_type": "code",
   "execution_count": 14,
   "id": "82475ed0",
   "metadata": {},
   "outputs": [
    {
     "data": {
      "text/plain": [
       "6.6838624338624335"
      ]
     },
     "execution_count": 14,
     "metadata": {},
     "output_type": "execute_result"
    }
   ],
   "source": [
    "#2\n",
    "data[\"ram(GB)\"].mean()"
   ]
  },
  {
   "cell_type": "code",
   "execution_count": 9,
   "id": "e15fc4ce",
   "metadata": {},
   "outputs": [
    {
     "data": {
      "text/html": [
       "<div>\n",
       "<style scoped>\n",
       "    .dataframe tbody tr th:only-of-type {\n",
       "        vertical-align: middle;\n",
       "    }\n",
       "\n",
       "    .dataframe tbody tr th {\n",
       "        vertical-align: top;\n",
       "    }\n",
       "\n",
       "    .dataframe thead th {\n",
       "        text-align: right;\n",
       "    }\n",
       "</style>\n",
       "<table border=\"1\" class=\"dataframe\">\n",
       "  <thead>\n",
       "    <tr style=\"text-align: right;\">\n",
       "      <th></th>\n",
       "      <th>phone_name</th>\n",
       "      <th>battery</th>\n",
       "    </tr>\n",
       "  </thead>\n",
       "  <tbody>\n",
       "    <tr>\n",
       "      <th>573</th>\n",
       "      <td>V6</td>\n",
       "      <td>7250</td>\n",
       "    </tr>\n",
       "  </tbody>\n",
       "</table>\n",
       "</div>"
      ],
      "text/plain": [
       "    phone_name  battery\n",
       "573         V6     7250"
      ]
     },
     "execution_count": 9,
     "metadata": {},
     "output_type": "execute_result"
    }
   ],
   "source": [
    "#3\n",
    "data.loc[data[\"battery\"]==data[\"battery\"].max(),[\"phone_name\",\"battery\"]]"
   ]
  },
  {
   "cell_type": "code",
   "execution_count": 10,
   "id": "f5cf4738",
   "metadata": {},
   "outputs": [
    {
     "data": {
      "text/html": [
       "<div>\n",
       "<style scoped>\n",
       "    .dataframe tbody tr th:only-of-type {\n",
       "        vertical-align: middle;\n",
       "    }\n",
       "\n",
       "    .dataframe tbody tr th {\n",
       "        vertical-align: top;\n",
       "    }\n",
       "\n",
       "    .dataframe thead th {\n",
       "        text-align: right;\n",
       "    }\n",
       "</style>\n",
       "<table border=\"1\" class=\"dataframe\">\n",
       "  <thead>\n",
       "    <tr style=\"text-align: right;\">\n",
       "      <th></th>\n",
       "      <th>phone_name</th>\n",
       "      <th>battery</th>\n",
       "    </tr>\n",
       "  </thead>\n",
       "  <tbody>\n",
       "    <tr>\n",
       "      <th>62</th>\n",
       "      <td>iPhone 8</td>\n",
       "      <td>1821</td>\n",
       "    </tr>\n",
       "    <tr>\n",
       "      <th>536</th>\n",
       "      <td>iPhone SE (2020)</td>\n",
       "      <td>1821</td>\n",
       "    </tr>\n",
       "  </tbody>\n",
       "</table>\n",
       "</div>"
      ],
      "text/plain": [
       "           phone_name  battery\n",
       "62           iPhone 8     1821\n",
       "536  iPhone SE (2020)     1821"
      ]
     },
     "execution_count": 10,
     "metadata": {},
     "output_type": "execute_result"
    }
   ],
   "source": [
    "#4\n",
    "data.loc[data[\"battery\"]==data[\"battery\"].min(),[\"phone_name\",\"battery\"]]"
   ]
  },
  {
   "cell_type": "code",
   "execution_count": 14,
   "id": "45a631e0",
   "metadata": {},
   "outputs": [
    {
     "data": {
      "text/plain": [
       "battery    7000\n",
       "dtype: int64"
      ]
     },
     "execution_count": 14,
     "metadata": {},
     "output_type": "execute_result"
    }
   ],
   "source": [
    "#5\n",
    "data.loc[data[\"brand\"]==\"Huawei\",[\"battery\"]].max()"
   ]
  },
  {
   "cell_type": "code",
   "execution_count": 16,
   "id": "435e2406",
   "metadata": {},
   "outputs": [
    {
     "data": {
      "text/html": [
       "<div>\n",
       "<style scoped>\n",
       "    .dataframe tbody tr th:only-of-type {\n",
       "        vertical-align: middle;\n",
       "    }\n",
       "\n",
       "    .dataframe tbody tr th {\n",
       "        vertical-align: top;\n",
       "    }\n",
       "\n",
       "    .dataframe thead th {\n",
       "        text-align: right;\n",
       "    }\n",
       "</style>\n",
       "<table border=\"1\" class=\"dataframe\">\n",
       "  <thead>\n",
       "    <tr style=\"text-align: right;\">\n",
       "      <th></th>\n",
       "      <th>brand</th>\n",
       "      <th>ram(GB)</th>\n",
       "    </tr>\n",
       "  </thead>\n",
       "  <tbody>\n",
       "    <tr>\n",
       "      <th>27</th>\n",
       "      <td>Huawei</td>\n",
       "      <td>1</td>\n",
       "    </tr>\n",
       "    <tr>\n",
       "      <th>28</th>\n",
       "      <td>Samsung</td>\n",
       "      <td>1</td>\n",
       "    </tr>\n",
       "    <tr>\n",
       "      <th>69</th>\n",
       "      <td>Samsung</td>\n",
       "      <td>1</td>\n",
       "    </tr>\n",
       "    <tr>\n",
       "      <th>133</th>\n",
       "      <td>Huawei</td>\n",
       "      <td>1</td>\n",
       "    </tr>\n",
       "    <tr>\n",
       "      <th>182</th>\n",
       "      <td>Samsung</td>\n",
       "      <td>1</td>\n",
       "    </tr>\n",
       "    <tr>\n",
       "      <th>230</th>\n",
       "      <td>Samsung</td>\n",
       "      <td>1</td>\n",
       "    </tr>\n",
       "    <tr>\n",
       "      <th>236</th>\n",
       "      <td>Huawei</td>\n",
       "      <td>1</td>\n",
       "    </tr>\n",
       "    <tr>\n",
       "      <th>244</th>\n",
       "      <td>Xiaomi</td>\n",
       "      <td>1</td>\n",
       "    </tr>\n",
       "    <tr>\n",
       "      <th>304</th>\n",
       "      <td>Samsung</td>\n",
       "      <td>1</td>\n",
       "    </tr>\n",
       "    <tr>\n",
       "      <th>363</th>\n",
       "      <td>LG</td>\n",
       "      <td>1</td>\n",
       "    </tr>\n",
       "    <tr>\n",
       "      <th>550</th>\n",
       "      <td>Samsung</td>\n",
       "      <td>1</td>\n",
       "    </tr>\n",
       "  </tbody>\n",
       "</table>\n",
       "</div>"
      ],
      "text/plain": [
       "       brand  ram(GB)\n",
       "27    Huawei        1\n",
       "28   Samsung        1\n",
       "69   Samsung        1\n",
       "133   Huawei        1\n",
       "182  Samsung        1\n",
       "230  Samsung        1\n",
       "236   Huawei        1\n",
       "244   Xiaomi        1\n",
       "304  Samsung        1\n",
       "363       LG        1\n",
       "550  Samsung        1"
      ]
     },
     "execution_count": 16,
     "metadata": {},
     "output_type": "execute_result"
    }
   ],
   "source": [
    "#6\n",
    "data.loc[data[\"ram(GB)\"]==data[\"ram(GB)\"].min(),[\"brand\",\"ram(GB)\"]]"
   ]
  },
  {
   "cell_type": "code",
   "execution_count": 20,
   "id": "1daf47bb",
   "metadata": {},
   "outputs": [
    {
     "data": {
      "text/html": [
       "<div>\n",
       "<style scoped>\n",
       "    .dataframe tbody tr th:only-of-type {\n",
       "        vertical-align: middle;\n",
       "    }\n",
       "\n",
       "    .dataframe tbody tr th {\n",
       "        vertical-align: top;\n",
       "    }\n",
       "\n",
       "    .dataframe thead th {\n",
       "        text-align: right;\n",
       "    }\n",
       "</style>\n",
       "<table border=\"1\" class=\"dataframe\">\n",
       "  <thead>\n",
       "    <tr style=\"text-align: right;\">\n",
       "      <th></th>\n",
       "      <th>phone_name</th>\n",
       "      <th>announcement_date</th>\n",
       "    </tr>\n",
       "  </thead>\n",
       "  <tbody>\n",
       "    <tr>\n",
       "      <th>0</th>\n",
       "      <td>Y6II Compact</td>\n",
       "      <td>2016-09-01</td>\n",
       "    </tr>\n",
       "  </tbody>\n",
       "</table>\n",
       "</div>"
      ],
      "text/plain": [
       "     phone_name announcement_date\n",
       "0  Y6II Compact        2016-09-01"
      ]
     },
     "execution_count": 20,
     "metadata": {},
     "output_type": "execute_result"
    }
   ],
   "source": [
    "#7\n",
    "data.loc[data[\"announcement_date\"]==data[\"announcement_date\"].min(),[\"phone_name\",\"announcement_date\"]]"
   ]
  },
  {
   "cell_type": "code",
   "execution_count": 21,
   "id": "f0761fc7",
   "metadata": {},
   "outputs": [
    {
     "data": {
      "text/plain": [
       "phone_name    33\n",
       "dtype: int64"
      ]
     },
     "execution_count": 21,
     "metadata": {},
     "output_type": "execute_result"
    }
   ],
   "source": [
    "#8\n",
    "data.loc[data[\"os\"]==\"Android 7.0\",[\"phone_name\"]].count()"
   ]
  },
  {
   "cell_type": "code",
   "execution_count": 47,
   "id": "427d159c",
   "metadata": {},
   "outputs": [
    {
     "data": {
      "text/plain": [
       "Xiaomi     264\n",
       "Oppo       213\n",
       "Samsung    206\n",
       "Vivo       168\n",
       "Realme     157\n",
       "Huawei     137\n",
       "Honor      124\n",
       "LG          75\n",
       "OnePlus     47\n",
       "Lenovo      43\n",
       "Sony        37\n",
       "Apple       22\n",
       "Google      19\n",
       "Name: brand, dtype: int64"
      ]
     },
     "execution_count": 47,
     "metadata": {},
     "output_type": "execute_result"
    }
   ],
   "source": [
    "#9\n",
    "data[\"brand\"].value_counts()"
   ]
  },
  {
   "cell_type": "code",
   "execution_count": 33,
   "id": "a11be184",
   "metadata": {},
   "outputs": [
    {
     "data": {
      "text/html": [
       "<div>\n",
       "<style scoped>\n",
       "    .dataframe tbody tr th:only-of-type {\n",
       "        vertical-align: middle;\n",
       "    }\n",
       "\n",
       "    .dataframe tbody tr th {\n",
       "        vertical-align: top;\n",
       "    }\n",
       "\n",
       "    .dataframe thead th {\n",
       "        text-align: right;\n",
       "    }\n",
       "</style>\n",
       "<table border=\"1\" class=\"dataframe\">\n",
       "  <thead>\n",
       "    <tr style=\"text-align: right;\">\n",
       "      <th></th>\n",
       "      <th>phone_name</th>\n",
       "      <th>brand</th>\n",
       "      <th>price(USD)</th>\n",
       "    </tr>\n",
       "  </thead>\n",
       "  <tbody>\n",
       "    <tr>\n",
       "      <th>777</th>\n",
       "      <td>P40 4G</td>\n",
       "      <td>Huawei</td>\n",
       "      <td>2300.0</td>\n",
       "    </tr>\n",
       "  </tbody>\n",
       "</table>\n",
       "</div>"
      ],
      "text/plain": [
       "    phone_name   brand  price(USD)\n",
       "777     P40 4G  Huawei      2300.0"
      ]
     },
     "execution_count": 33,
     "metadata": {},
     "output_type": "execute_result"
    }
   ],
   "source": [
    "#10\n",
    "data.loc[data[\"price(USD)\"]==data[\"price(USD)\"].max(),[\"phone_name\",\"brand\",\"price(USD)\"]]"
   ]
  },
  {
   "cell_type": "code",
   "execution_count": 34,
   "id": "38e6dbd2",
   "metadata": {},
   "outputs": [
    {
     "data": {
      "text/html": [
       "<div>\n",
       "<style scoped>\n",
       "    .dataframe tbody tr th:only-of-type {\n",
       "        vertical-align: middle;\n",
       "    }\n",
       "\n",
       "    .dataframe tbody tr th {\n",
       "        vertical-align: top;\n",
       "    }\n",
       "\n",
       "    .dataframe thead th {\n",
       "        text-align: right;\n",
       "    }\n",
       "</style>\n",
       "<table border=\"1\" class=\"dataframe\">\n",
       "  <thead>\n",
       "    <tr style=\"text-align: right;\">\n",
       "      <th></th>\n",
       "      <th>phone_name</th>\n",
       "      <th>brand</th>\n",
       "      <th>price(USD)</th>\n",
       "    </tr>\n",
       "  </thead>\n",
       "  <tbody>\n",
       "    <tr>\n",
       "      <th>452</th>\n",
       "      <td>C2s</td>\n",
       "      <td>Realme</td>\n",
       "      <td>40.0</td>\n",
       "    </tr>\n",
       "  </tbody>\n",
       "</table>\n",
       "</div>"
      ],
      "text/plain": [
       "    phone_name   brand  price(USD)\n",
       "452        C2s  Realme        40.0"
      ]
     },
     "execution_count": 34,
     "metadata": {},
     "output_type": "execute_result"
    }
   ],
   "source": [
    "#11\n",
    "data.loc[data[\"price(USD)\"]==data[\"price(USD)\"].min(),[\"phone_name\",\"brand\",\"price(USD)\"]]"
   ]
  },
  {
   "cell_type": "code",
   "execution_count": 39,
   "id": "4df66ccd",
   "metadata": {},
   "outputs": [
    {
     "data": {
      "text/plain": [
       "phone_name    801\n",
       "dtype: int64"
      ]
     },
     "execution_count": 39,
     "metadata": {},
     "output_type": "execute_result"
    }
   ],
   "source": [
    "#12\n",
    "data.loc[data[\"video_4K\"]==True,[\"phone_name\"]].count()"
   ]
  },
  {
   "cell_type": "code",
   "execution_count": 19,
   "id": "ca17d35c",
   "metadata": {},
   "outputs": [
    {
     "data": {
      "text/plain": [
       "phone_name    86\n",
       "dtype: int64"
      ]
     },
     "execution_count": 19,
     "metadata": {},
     "output_type": "execute_result"
    }
   ],
   "source": [
    "data.loc[data[\"video_8K\"]==True,[\"phone_name\"]].count()"
   ]
  },
  {
   "cell_type": "code",
   "execution_count": 44,
   "id": "c086457b",
   "metadata": {},
   "outputs": [
    {
     "data": {
      "text/plain": [
       "phone_name    1503\n",
       "dtype: int64"
      ]
     },
     "execution_count": 44,
     "metadata": {},
     "output_type": "execute_result"
    }
   ],
   "source": [
    "data.loc[data[\"video_1080p\"]==True,[\"phone_name\"]].count()"
   ]
  },
  {
   "cell_type": "code",
   "execution_count": null,
   "id": "ef90d992",
   "metadata": {},
   "outputs": [],
   "source": []
  }
 ],
 "metadata": {
  "kernelspec": {
   "display_name": "Python 3 (ipykernel)",
   "language": "python",
   "name": "python3"
  },
  "language_info": {
   "codemirror_mode": {
    "name": "ipython",
    "version": 3
   },
   "file_extension": ".py",
   "mimetype": "text/x-python",
   "name": "python",
   "nbconvert_exporter": "python",
   "pygments_lexer": "ipython3",
   "version": "3.11.3"
  }
 },
 "nbformat": 4,
 "nbformat_minor": 5
}
